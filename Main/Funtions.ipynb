{
  "nbformat": 4,
  "nbformat_minor": 0,
  "metadata": {
    "colab": {
      "name": "Funtions",
      "provenance": [],
      "authorship_tag": "ABX9TyPafckZc42hXUEW36kQ0GPK",
      "include_colab_link": true
    },
    "kernelspec": {
      "name": "python3",
      "display_name": "Python 3"
    },
    "language_info": {
      "name": "python"
    }
  },
  "cells": [
    {
      "cell_type": "markdown",
      "metadata": {
        "id": "view-in-github",
        "colab_type": "text"
      },
      "source": [
        "<a href=\"https://colab.research.google.com/github/sandralayas/library/blob/main/Funtions.ipynb\" target=\"_parent\"><img src=\"https://colab.research.google.com/assets/colab-badge.svg\" alt=\"Open In Colab\"/></a>"
      ]
    },
    {
      "cell_type": "markdown",
      "source": [
        "***Funtions***\n",
        "\n",
        "*A function is a block of code that only runs when it is called.*\n",
        "\n",
        "* *Python functions return a value using a return statement, if one is specified*. \n",
        "\n",
        "* *A function can be called anywhere after the function has been declared*. \n",
        "\n",
        "* *By itself, a function does nothing*.\n",
        "\n",
        "Syntax : -\n",
        "\n",
        "\n",
        "    def name(arguments):\n",
        "      statement\n",
        "      statement\n",
        "      ...\n",
        "      return value"
      ],
      "metadata": {
        "id": "GUJXbPJrgc8t"
      }
    },
    {
      "cell_type": "code",
      "execution_count": 3,
      "metadata": {
        "colab": {
          "base_uri": "https://localhost:8080/"
        },
        "id": "HeCyM7gygVHY",
        "outputId": "c5d250f6-0dd9-403d-cf3e-0b00e13a953b"
      },
      "outputs": [
        {
          "output_type": "stream",
          "name": "stdout",
          "text": [
            "2.0\n"
          ]
        }
      ],
      "source": [
        "def average(a,b,c):return (a+b+c)/3\n",
        "print(average(1,2,3))"
      ]
    },
    {
      "cell_type": "code",
      "source": [
        "def greet(name,message):print(\" Hi!!, %s\\n %s\" % (name.capitalize(),message.capitalize()))\n",
        "greet('sandra','how are you ?')"
      ],
      "metadata": {
        "colab": {
          "base_uri": "https://localhost:8080/"
        },
        "id": "mLLO0i3gjnkU",
        "outputId": "08d7e9ec-8bbe-4b88-bb60-79e2dbc00fcf"
      },
      "execution_count": 13,
      "outputs": [
        {
          "output_type": "stream",
          "name": "stdout",
          "text": [
            " Hi!!, Sandra\n",
            " How are you ?\n"
          ]
        }
      ]
    },
    {
      "cell_type": "code",
      "source": [
        "def isprime(num):\n",
        "  if num==1:return False\n",
        "  for i in range(2,(num//2)+1):\n",
        "    if num%i==0:return False\n",
        "  return True\n",
        "\n",
        "upper=int(input(\" Enter the upper limit : \"))\n",
        "lower=int(input(\" Enter the lower limit : \"))\n",
        "for i in range(upper,lower+1):\n",
        "  if isprime(i):print(i,end=' ')"
      ],
      "metadata": {
        "colab": {
          "base_uri": "https://localhost:8080/"
        },
        "id": "UHErSm3tu6DR",
        "outputId": "adbc6a12-eada-4378-ceb7-9343e0d18262"
      },
      "execution_count": 16,
      "outputs": [
        {
          "output_type": "stream",
          "name": "stdout",
          "text": [
            " Enter the upper limit : 1\n",
            " Enter the lower limit : 30\n",
            "2 3 5 7 11 13 17 19 23 29 "
          ]
        }
      ]
    }
  ]
}
