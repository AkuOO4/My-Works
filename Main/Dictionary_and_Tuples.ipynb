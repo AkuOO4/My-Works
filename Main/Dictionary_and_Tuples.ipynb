{
  "nbformat": 4,
  "nbformat_minor": 0,
  "metadata": {
    "colab": {
      "name": "Dictionary and Tuples.ipynb",
      "provenance": [],
      "authorship_tag": "ABX9TyOZXuacZ+sXZ1cbKfcbrf6K",
      "include_colab_link": true
    },
    "kernelspec": {
      "name": "python3",
      "display_name": "Python 3"
    },
    "language_info": {
      "name": "python"
    }
  },
  "cells": [
    {
      "cell_type": "markdown",
      "metadata": {
        "id": "view-in-github",
        "colab_type": "text"
      },
      "source": [
        "<a href=\"https://colab.research.google.com/github/sandralayas/library/blob/main/Dictionary_and_Tuples.ipynb\" target=\"_parent\"><img src=\"https://colab.research.google.com/assets/colab-badge.svg\" alt=\"Open In Colab\"/></a>"
      ]
    },
    {
      "cell_type": "markdown",
      "source": [
        "***Dictionary***"
      ],
      "metadata": {
        "id": "PKfSRCqYXyCB"
      }
    },
    {
      "cell_type": "code",
      "execution_count": 3,
      "metadata": {
        "colab": {
          "base_uri": "https://localhost:8080/"
        },
        "id": "vIjGSvxQXKRN",
        "outputId": "8243c0ce-dc49-45e8-d1c1-4f394de0d43d"
      },
      "outputs": [
        {
          "output_type": "stream",
          "name": "stdout",
          "text": [
            "rollno \t\t 123\n",
            "name \t\t naruto\n",
            "marks \t\t 40.5\n"
          ]
        }
      ],
      "source": [
        "dictionary={'rollno':123,'name':'naruto','marks':40.5}\n",
        "for keys in dictionary:print(keys,'\\t\\t',dictionary[keys])"
      ]
    },
    {
      "cell_type": "markdown",
      "source": [
        "***Tuples***"
      ],
      "metadata": {
        "id": "EdqTZi9zZTmP"
      }
    },
    {
      "cell_type": "code",
      "source": [
        "tuples=(1,2,3,4)\n",
        "for keys in tuples:print(keys,end='.')"
      ],
      "metadata": {
        "colab": {
          "base_uri": "https://localhost:8080/"
        },
        "id": "VhnW-yW6Zaxy",
        "outputId": "0b1c8967-9593-4f95-e247-32d0efed1121"
      },
      "execution_count": 11,
      "outputs": [
        {
          "output_type": "stream",
          "name": "stdout",
          "text": [
            "1.2.3.4."
          ]
        }
      ]
    },
    {
      "cell_type": "code",
      "source": [
        "print(tuples*3)"
      ],
      "metadata": {
        "colab": {
          "base_uri": "https://localhost:8080/"
        },
        "id": "9l-WlD1OaNSe",
        "outputId": "bd12a3ec-f5df-4cf5-8dbf-876683b4c2b0"
      },
      "execution_count": 12,
      "outputs": [
        {
          "output_type": "stream",
          "name": "stdout",
          "text": [
            "(1, 2, 3, 4, 1, 2, 3, 4, 1, 2, 3, 4)\n"
          ]
        }
      ]
    },
    {
      "cell_type": "markdown",
      "source": [
        "***Sets***\n",
        "\n",
        "\n",
        "1.   unchangable\n",
        "2.   doesn't support duplicates\n",
        "3.   not ordered\n",
        "\n"
      ],
      "metadata": {
        "id": "-gGwtRSbabBm"
      }
    },
    {
      "cell_type": "code",
      "source": [
        "sets={1,2,3,4,5}\n",
        "print(type(sets),sets)\n",
        "\n",
        "sets.add(10)\n",
        "sets.add(12)\n",
        "\n",
        "sets.remove(10)\n",
        "\n",
        "print(sets)\n",
        "\n",
        "sets.discard(12)\n",
        "\n",
        "print(sets)\n"
      ],
      "metadata": {
        "colab": {
          "base_uri": "https://localhost:8080/"
        },
        "id": "kDd_Xqy0aeve",
        "outputId": "9b9a3eb3-40e0-4c8c-ad18-1f5b101074fd"
      },
      "execution_count": 19,
      "outputs": [
        {
          "output_type": "stream",
          "name": "stdout",
          "text": [
            "<class 'set'> {1, 2, 3, 4, 5}\n",
            "{1, 2, 3, 4, 5, 12}\n",
            "{1, 2, 3, 4, 5}\n"
          ]
        }
      ]
    },
    {
      "cell_type": "markdown",
      "source": [
        "Union"
      ],
      "metadata": {
        "id": "HycvX2zNceGm"
      }
    },
    {
      "cell_type": "code",
      "source": [
        "seta={1,2,3,4}\n",
        "setb={3,4,5,6}\n",
        "\n",
        "print(seta.union(setb))\n",
        "print(seta.intersection(setb))\n",
        "\n",
        "print(list(seta),list(setb))"
      ],
      "metadata": {
        "colab": {
          "base_uri": "https://localhost:8080/"
        },
        "id": "Wu3XkQkBcdWG",
        "outputId": "c18cc173-a31d-4181-bd8b-5dede4eddac4"
      },
      "execution_count": 23,
      "outputs": [
        {
          "output_type": "stream",
          "name": "stdout",
          "text": [
            "{1, 2, 3, 4, 5, 6}\n",
            "{3, 4}\n",
            "[1, 2, 3, 4] [3, 4, 5, 6]\n"
          ]
        }
      ]
    }
  ]
}
