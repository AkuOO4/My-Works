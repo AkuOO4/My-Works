{
  "nbformat": 4,
  "nbformat_minor": 0,
  "metadata": {
    "colab": {
      "name": "Pay_Slip.ipynb",
      "provenance": [],
      "authorship_tag": "ABX9TyMuEYFxhsZL5j70EUNVv8jl",
      "include_colab_link": true
    },
    "kernelspec": {
      "name": "python3",
      "display_name": "Python 3"
    },
    "language_info": {
      "name": "python"
    }
  },
  "cells": [
    {
      "cell_type": "markdown",
      "metadata": {
        "id": "view-in-github",
        "colab_type": "text"
      },
      "source": [
        "<a href=\"https://colab.research.google.com/github/sandralayas/library/blob/Python-practice-problems/Pay_Slip.ipynb\" target=\"_parent\"><img src=\"https://colab.research.google.com/assets/colab-badge.svg\" alt=\"Open In Colab\"/></a>"
      ]
    },
    {
      "cell_type": "code",
      "execution_count": null,
      "metadata": {
        "id": "pIO9_ypoNwmF"
      },
      "outputs": [],
      "source": [
        "# Question 3 ; payslip\n",
        "\n",
        "def read_details():\n",
        "  a=(input('Enter the employee name : '))\n",
        "  b=int(input('Enter the code : '))\n",
        "  c=float(input('Enter the basic pay : '))\n",
        "  return a,b,c\n",
        "\n",
        "def gross_salary(salary):\n",
        "  if salary<10000:return salary*(1+0.05+0.025)+500\n",
        "  elif salary>10000 and salary<30000:return salary*(1+0.075+0.05)+2500\n",
        "  elif salary>30000 and salary<50000:return salary*(1+0.11+0.075)+5000\n",
        "  else:return salary*(1+0.25+0.11)+7000\n",
        "\n",
        "def deduction(salary):\n",
        "  if salary<10000:return salary*0.08+20\n",
        "  elif salary>10000 and salary<30000:return salary*0.08+60\n",
        "  elif salary>30000 and salary<50000:return salary*(0.11+0.11)+60\n",
        "  else:return salary*(0.12+0.2)+60\n",
        "\n",
        "name,code,salary=read_details()\n",
        "print('gross_salary : ',gross_salary(salary))\n",
        "print('deduction : ',deduction(salary))\n",
        "print('Net salary :',gross_salary(salary)-deduction(salary))"
      ]
    }
  ]
}