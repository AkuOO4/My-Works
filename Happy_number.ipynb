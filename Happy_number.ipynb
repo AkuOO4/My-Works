{
  "nbformat": 4,
  "nbformat_minor": 0,
  "metadata": {
    "colab": {
      "name": "Happy_number.ipynb",
      "provenance": [],
      "authorship_tag": "ABX9TyOQWTyVfocK1rw6bANUMDkW",
      "include_colab_link": true
    },
    "kernelspec": {
      "name": "python3",
      "display_name": "Python 3"
    },
    "language_info": {
      "name": "python"
    }
  },
  "cells": [
    {
      "cell_type": "markdown",
      "metadata": {
        "id": "view-in-github",
        "colab_type": "text"
      },
      "source": [
        "<a href=\"https://colab.research.google.com/github/sandralayas/library/blob/Python-practice-problems/Happy_number.ipynb\" target=\"_parent\"><img src=\"https://colab.research.google.com/assets/colab-badge.svg\" alt=\"Open In Colab\"/></a>"
      ]
    },
    {
      "cell_type": "code",
      "execution_count": null,
      "metadata": {
        "id": "S19GnolJOJVZ"
      },
      "outputs": [],
      "source": [
        "''' Question 4 ; Happy number'''\n",
        "\n",
        "def isHappy(num):\n",
        "  count=100\n",
        "  while count!=0:\n",
        "    count-=1\n",
        "    sum=0\n",
        "    for i in range(num):\n",
        "      a=num%10\n",
        "      sum+=a*a\n",
        "      num=num//10\n",
        "    if sum==1:\n",
        "      return True\n",
        "    num=sum\n",
        "  else:return False\n",
        "\n",
        "num=int(input('Enter the number : '))\n",
        "if isHappy(num):print(num,' is a happy number')\n",
        "else:print(num,' is a sad number')\n",
        "\n",
        "lower=int(input('Enter the lower limit : '))\n",
        "upper=int(input('Enter the upper limit : '))\n",
        "\n",
        "for i in range(lower,upper+1):\n",
        "  if isHappy(i):print(i,end=' ')\n",
        "\n",
        "count=int(input('\\nEnter how many numbers needed : '))\n",
        "num=1\n",
        "while count!=0:\n",
        "  if isHappy(num):\n",
        "    count-=1\n",
        "    print(num,end=' ')\n",
        "  num+=1"
      ]
    }
  ]
}