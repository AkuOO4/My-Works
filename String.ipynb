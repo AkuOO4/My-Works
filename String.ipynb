{
  "nbformat": 4,
  "nbformat_minor": 0,
  "metadata": {
    "colab": {
      "name": "String.ipynb",
      "provenance": [],
      "collapsed_sections": [],
      "authorship_tag": "ABX9TyNyea4IdRdELBn1cI75y8O8",
      "include_colab_link": true
    },
    "kernelspec": {
      "name": "python3",
      "display_name": "Python 3"
    },
    "language_info": {
      "name": "python"
    }
  },
  "cells": [
    {
      "cell_type": "markdown",
      "metadata": {
        "id": "view-in-github",
        "colab_type": "text"
      },
      "source": [
        "<a href=\"https://colab.research.google.com/github/sandralayas/library/blob/Python-practice-problems/String.ipynb\" target=\"_parent\"><img src=\"https://colab.research.google.com/assets/colab-badge.svg\" alt=\"Open In Colab\"/></a>"
      ]
    },
    {
      "cell_type": "code",
      "execution_count": null,
      "metadata": {
        "id": "IrnzEcFrOYm4"
      },
      "outputs": [],
      "source": [
        "# Question 5 ; String\n",
        "\n",
        "def print_all(word):\n",
        "  for i in range(1,len(word)):\n",
        "    for j in range(len(word)):\n",
        "      print(word[j:],end=' ')\n",
        "    word=word[:len(word)-1]\n",
        "  print('a')\n",
        "\n",
        "def print_palindrome(word):\n",
        "  for i in range(1,len(word)):\n",
        "    for j in range(len(word)):\n",
        "      sub=word[j:]\n",
        "      if sub==sub[::-1]:print(sub,end=' ')\n",
        "    word=word[:len(word)-1]\n",
        "  print('a')\n",
        "\n",
        "def word_length(word,a):\n",
        "  list_of_strings=[]\n",
        "  for i in range(1,len(word)):\n",
        "    for j in range(len(word)):\n",
        "      ans=(word[j:])\n",
        "      if len(ans)==a:list_of_strings.append(ans)\n",
        "    word=word[:len(word)-1]\n",
        "  if a==1:list_of_strings('a')\n",
        "  return list_of_strings\n",
        "\n",
        "def print_length_distinct(word,a):\n",
        "  for i in word_length(word,a):\n",
        "    if len(set(i))==len(i):print(i,end=' ')\n",
        "\n",
        "\n",
        "word=input( 'Enter the string :')\n",
        "print('\\n All the sub strings')\n",
        "print_all(word)\n",
        "a=int(input('\\nEnter the length : '))\n",
        "\n",
        "print('\\n Substrings of length',a) \n",
        "for i in word_length(word,a):print(i,end=' ')\n",
        "print()\n",
        "print('\\n Substrings of length',a,'which are distinct') \n",
        "print_length_distinct(word,a)\n",
        "print('\\n palindromes :')\n",
        "print_palindrome(word)"
      ]
    }
  ]
}