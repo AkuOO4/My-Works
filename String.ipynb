{
  "nbformat": 4,
  "nbformat_minor": 0,
  "metadata": {
    "colab": {
      "name": "String.ipynb",
      "provenance": [],
      "collapsed_sections": [],
      "authorship_tag": "ABX9TyPyLeT611RD1EiI0byNp09d",
      "include_colab_link": true
    },
    "kernelspec": {
      "name": "python3",
      "display_name": "Python 3"
    },
    "language_info": {
      "name": "python"
    }
  },
  "cells": [
    {
      "cell_type": "markdown",
      "metadata": {
        "id": "view-in-github",
        "colab_type": "text"
      },
      "source": [
        "<a href=\"https://colab.research.google.com/github/sandralayas/library/blob/Python-practice-problems/String.ipynb\" target=\"_parent\"><img src=\"https://colab.research.google.com/assets/colab-badge.svg\" alt=\"Open In Colab\"/></a>"
      ]
    },
    {
      "cell_type": "code",
      "execution_count": 10,
      "metadata": {
        "id": "IrnzEcFrOYm4",
        "colab": {
          "base_uri": "https://localhost:8080/"
        },
        "outputId": "e79d4093-8ba5-4ee8-fa96-ec2b0358844b"
      },
      "outputs": [
        {
          "output_type": "stream",
          "name": "stdout",
          "text": [
            "Enter the string :abcd\n",
            "\n",
            " All the sub strings\n",
            "abcd bcd cd d abc bc c ab b a \n",
            "\n",
            "Enter the length : 3\n",
            "\n",
            " Substrings of length 3\n",
            "bcd abc \n",
            "\n",
            " Substrings of length 3 which are distinct\n",
            "bcd abc \n",
            "\n",
            " Palindromes :\n",
            "d c b a "
          ]
        }
      ],
      "source": [
        "# Question 5 ; String\n",
        "\n",
        "def get_substring(word):\n",
        "  list_of_strings=[]\n",
        "  for i in range(len(word)):\n",
        "    for j in range(len(word)):\n",
        "      list_of_strings.append(word[j:])\n",
        "    word=word[:len(word)-1]\n",
        "  return list_of_strings\n",
        "\n",
        "def print_palindrome(word):\n",
        "  for i in get_substring(word):\n",
        "    if i==i[::-1]:print(i,end=' ')\n",
        "\n",
        "def word_length(word,a):\n",
        "  for i in get_substring(word):\n",
        "    if len(i)==a:print(i,end=' ')\n",
        "\n",
        "def print_length_distinct(word,a):\n",
        "  for i in get_substring(word):\n",
        "    if len(i)==a:\n",
        "      if len(set(i))==len(i):print(i,end=' ')\n",
        "\n",
        "\n",
        "word=input( 'Enter the string :')\n",
        "print('\\n All the sub strings')\n",
        "for i in get_substring(word):print(i,end=' ')\n",
        "\n",
        "a=int(input('\\n\\nEnter the length : '))\n",
        "\n",
        "print('\\n Substrings of length',a) \n",
        "word_length(word,a)\n",
        "print()\n",
        "print('\\n Substrings of length',a,'which are distinct') \n",
        "print_length_distinct(word,a)\n",
        "print('\\n\\n Palindromes :')\n",
        "print_palindrome(word)"
      ]
    }
  ]
}