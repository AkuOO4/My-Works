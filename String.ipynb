{
  "nbformat": 4,
  "nbformat_minor": 0,
  "metadata": {
    "colab": {
      "name": "String.ipynb",
      "provenance": [],
      "collapsed_sections": [],
      "authorship_tag": "ABX9TyPlHDJgEnJPHJl8ovGXsuOP",
      "include_colab_link": true
    },
    "kernelspec": {
      "name": "python3",
      "display_name": "Python 3"
    },
    "language_info": {
      "name": "python"
    }
  },
  "cells": [
    {
      "cell_type": "markdown",
      "metadata": {
        "id": "view-in-github",
        "colab_type": "text"
      },
      "source": [
        "<a href=\"https://colab.research.google.com/github/sandralayas/library/blob/Python-practice-problems/String.ipynb\" target=\"_parent\"><img src=\"https://colab.research.google.com/assets/colab-badge.svg\" alt=\"Open In Colab\"/></a>"
      ]
    },
    {
      "cell_type": "code",
      "execution_count": 1,
      "metadata": {
        "id": "IrnzEcFrOYm4",
        "colab": {
          "base_uri": "https://localhost:8080/"
        },
        "outputId": "d357d4ce-f951-47df-e3b7-0e29431feca3"
      },
      "outputs": [
        {
          "output_type": "stream",
          "name": "stdout",
          "text": [
            "Enter the string :aabbcc\n",
            "\n",
            " All the sub strings\n",
            "aabbcc abbcc bbcc bcc cc c aabbc abbc bbc bc c aabb abb bb b aab ab b aa a a \n",
            "\n",
            "Enter the length : 4\n",
            "\n",
            " Substrings of length 4\n",
            "bbcc abbc aabb \n",
            "\n",
            " Substrings of length 4 which are distinct\n",
            "\n",
            "\n",
            " Palindromes :\n",
            "cc c c bb b b aa a a "
          ]
        }
      ],
      "source": [
        "# Question 5 ; String\n",
        "\n",
        "def print_all(word):\n",
        "  for i in range(len(word)):\n",
        "    for j in range(len(word)):\n",
        "      print(word[j:],end=' ')\n",
        "    word=word[:len(word)-1]\n",
        "\n",
        "def print_palindrome(word):\n",
        "  for i in range(len(word)):\n",
        "    for j in range(len(word)):\n",
        "      sub=word[j:]\n",
        "      if sub==sub[::-1]:print(sub,end=' ')\n",
        "    word=word[:len(word)-1]\n",
        "\n",
        "def word_length(word,a):\n",
        "  list_of_strings=[]\n",
        "  for i in range(len(word)):\n",
        "    for j in range(len(word)):\n",
        "      ans=(word[j:])\n",
        "      if len(ans)==a:list_of_strings.append(ans)\n",
        "    word=word[:len(word)-1]\n",
        "  return list_of_strings\n",
        "\n",
        "def print_length_distinct(word,a):\n",
        "  for i in word_length(word,a):\n",
        "    if len(set(i))==len(i):print(i,end=' ')\n",
        "\n",
        "\n",
        "word=input( 'Enter the string :')\n",
        "print('\\n All the sub strings')\n",
        "print_all(word)\n",
        "\n",
        "a=int(input('\\n\\nEnter the length : '))\n",
        "\n",
        "print('\\n Substrings of length',a) \n",
        "for i in word_length(word,a):print(i,end=' ')\n",
        "print()\n",
        "print('\\n Substrings of length',a,'which are distinct') \n",
        "print_length_distinct(word,a)\n",
        "print('\\n\\n Palindromes :')\n",
        "print_palindrome(word)"
      ]
    }
  ]
}